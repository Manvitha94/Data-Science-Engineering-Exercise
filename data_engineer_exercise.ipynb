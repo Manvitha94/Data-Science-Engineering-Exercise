{
 "cells": [
  {
   "cell_type": "markdown",
   "metadata": {},
   "source": [
    "# Evaluation criteria\n",
    "\n",
    "The goal of this assignment is to get a view on your hands-on \"data engineering\" skills.  \n",
    "At our company, our data scientists and engineers collaborate on projects.  \n",
    "Your main focus will be creating performant & robust data flows.  \n",
    "For a take-home-assignment, we cannot grant you access to our infrastructure.  \n",
    "The assignement below measures your proficiency in general programming, data science & engineering tasks using python.  \n",
    "Completion should not take more than half a day.\n",
    "\n",
    "**We expect you to be proficient in:**\n",
    " * SQL queries (Sybase IQ system)\n",
    " * ETL flows (In collaboration with existing teams)\n",
    " * General python to glue it all together\n",
    " * Python data science ecosystem (Pandas + SKlearn)\n",
    " \n",
    "**In this exercise we expect you to demonstrate your ability to / knowledge of:**\n",
    " * Building a data science runtime\n",
    " * PEP8 / Google python styleguide\n",
    " * Efficiently getting the job done\n",
    " * Choose meaningfull names for variables & functions\n",
    " * Writing maintainable code (yes, you might need to document some steps)\n",
    " * Help a data scientist present interactive results.\n",
    " * Offer predictions via REST api"
   ]
  },
  {
   "cell_type": "markdown",
   "metadata": {},
   "source": [
    "# Setting-up a data science workspace\n",
    "\n",
    "We allow you full freedom in setting up a data science runtime.  \n",
    "The main objective is having a runtime where you can run this notebook and the code you will develop.  \n",
    "You can choose for a local setup on your pc, or even a cloud setup if you're up for it.   \n",
    "\n",
    "**In your environment, you will need things for:**\n",
    " * https request\n",
    " * python3 (not python2 !!)\n",
    " * (geo)pandas\n",
    " * interactive maps (e.g. folium, altair, ...)\n",
    " * REST apis\n",
    " \n",
    "**Deliverables we expect**:\n",
    " * notebook with the completed assignment\n",
    " * list of packages for your runtime (e.g. yml or txt file)\n",
    " * evidence of a working API endpoint"
   ]
  },
  {
   "cell_type": "markdown",
   "metadata": {},
   "source": [
    "# Importing packages"
   ]
  },
  {
   "cell_type": "markdown",
   "metadata": {},
   "source": [
    "We would like you to put all your import statements here, together in 1 place.  \n",
    "Before submitting, please make sure you remove any unused imports :-)  "
   ]
  },
  {
   "cell_type": "code",
   "execution_count": 1,
   "metadata": {},
   "outputs": [],
   "source": [
    "import pandas as pd\n",
    "import requests\n",
    "import unittest\n",
    "import re\n",
    "import lightgbm\n",
    "import joblib\n",
    "import geopandas as gpd\n",
    "import math\n",
    "import folium"
   ]
  },
  {
   "cell_type": "markdown",
   "metadata": {},
   "source": [
    "# Data ingestion exercises\n",
    "\n",
    "## Getting store location data from an API"
   ]
  },
  {
   "cell_type": "markdown",
   "metadata": {},
   "source": [
    "**Goal:** Obtain a pandas dataframe  \n",
    "**Hint:** You will need to normalise/flatten the json, because it contains multiple levels  \n",
    "**API call:** https://ecgplacesmw.colruytgroup.com/ecgplacesmw/v3/nl/places/filter/clp-places  "
   ]
  },
  {
   "cell_type": "code",
   "execution_count": 23,
   "metadata": {},
   "outputs": [
    {
     "name": "stdout",
     "output_type": "stream",
     "text": [
      "   placeId                 commercialName branchId sourceStatus  \\\n",
      "0      902                AALST (COLRUYT)     4156           AC   \n",
      "1      946               AALTER (COLRUYT)     4218           AC   \n",
      "2      950             AARSCHOT (COLRUYT)     4222           AC   \n",
      "3      886            ALSEMBERG (COLRUYT)     4138           AC   \n",
      "4      783                 AMAY (COLRUYT)     3853           AC   \n",
      "5      650              ANDENNE (COLRUYT)     3596           AC   \n",
      "6      744  ANDERLECHT (VEEWEYDE) COLRUYT     3759           AC   \n",
      "7      669   ANDERLECHT (HERBETTELN) COLR     3620           AC   \n",
      "8      448            ANDERLUES (COLRUYT)     3074           AC   \n",
      "9      681                  ANS (COLRUYT)     3644           AC   \n",
      "\n",
      "       sellingPartners                  handoverServices  \\\n",
      "0  [QUALITY, 3RDPARTY]  [CSOP_ORDERABLE, PREPAID_PARCEL]   \n",
      "1  [QUALITY, 3RDPARTY]  [CSOP_ORDERABLE, PREPAID_PARCEL]   \n",
      "2  [QUALITY, 3RDPARTY]  [CSOP_ORDERABLE, PREPAID_PARCEL]   \n",
      "3  [QUALITY, 3RDPARTY]  [CSOP_ORDERABLE, PREPAID_PARCEL]   \n",
      "4  [QUALITY, 3RDPARTY]  [CSOP_ORDERABLE, PREPAID_PARCEL]   \n",
      "5  [QUALITY, 3RDPARTY]  [CSOP_ORDERABLE, PREPAID_PARCEL]   \n",
      "6  [QUALITY, 3RDPARTY]  [CSOP_ORDERABLE, PREPAID_PARCEL]   \n",
      "7  [QUALITY, 3RDPARTY]  [CSOP_ORDERABLE, PREPAID_PARCEL]   \n",
      "8  [QUALITY, 3RDPARTY]  [CSOP_ORDERABLE, PREPAID_PARCEL]   \n",
      "9  [QUALITY, 3RDPARTY]  [CSOP_ORDERABLE, PREPAID_PARCEL]   \n",
      "\n",
      "                                         moreInfoUrl  \\\n",
      "0  https://www.colruyt.be/nl/colruyt-openingsuren...   \n",
      "1  https://www.colruyt.be/nl/colruyt-openingsuren...   \n",
      "2  https://www.colruyt.be/nl/colruyt-openingsuren...   \n",
      "3  https://www.colruyt.be/nl/colruyt-openingsuren...   \n",
      "4  https://www.colruyt.be/nl/colruyt-openingsuren...   \n",
      "5  https://www.colruyt.be/nl/colruyt-openingsuren...   \n",
      "6  https://www.colruyt.be/nl/colruyt-openingsuren...   \n",
      "7  https://www.colruyt.be/nl/colruyt-openingsuren...   \n",
      "8  https://www.colruyt.be/nl/colruyt-openingsuren...   \n",
      "9  https://www.colruyt.be/nl/colruyt-openingsuren...   \n",
      "\n",
      "                                            routeUrl  isActive  \\\n",
      "0  https://maps.apple.com/?daddr=50.933074,4.0538972      True   \n",
      "1  https://maps.apple.com/?daddr=51.0784761,3.450...      True   \n",
      "2  https://maps.apple.com/?daddr=50.9760369,4.811...      True   \n",
      "3  https://maps.apple.com/?daddr=50.7415212,4.336719      True   \n",
      "4  https://maps.apple.com/?daddr=50.5599284,5.306...      True   \n",
      "5  https://maps.apple.com/?daddr=50.4917055,5.093...      True   \n",
      "6  https://maps.apple.com/?daddr=50.8275378372,4....      True   \n",
      "7  https://maps.apple.com/?daddr=50.8439965,4.309...      True   \n",
      "8  https://maps.apple.com/?daddr=50.401257,4.2797751      True   \n",
      "9  https://maps.apple.com/?daddr=50.6588119,5.532...      True   \n",
      "\n",
      "                             placeSearchOpeningHours  ...  placeType.longName  \\\n",
      "0  [{'date': '29-12-2023', 'opens': 830, 'closes'...  ...              Winkel   \n",
      "1  [{'date': '29-12-2023', 'opens': 830, 'closes'...  ...              Winkel   \n",
      "2  [{'date': '29-12-2023', 'opens': 830, 'closes'...  ...              Winkel   \n",
      "3  [{'date': '29-12-2023', 'opens': 830, 'closes'...  ...              Winkel   \n",
      "4  [{'date': '29-12-2023', 'opens': 830, 'closes'...  ...              Winkel   \n",
      "5  [{'date': '29-12-2023', 'opens': 830, 'closes'...  ...              Winkel   \n",
      "6  [{'date': '29-12-2023', 'opens': 830, 'closes'...  ...              Winkel   \n",
      "7  [{'date': '29-12-2023', 'opens': 830, 'closes'...  ...              Winkel   \n",
      "8  [{'date': '29-12-2023', 'opens': 830, 'closes'...  ...              Winkel   \n",
      "9  [{'date': '29-12-2023', 'opens': 830, 'closes'...  ...              Winkel   \n",
      "\n",
      "  placeType.placeTypeDescription  geoCoordinates.latitude  \\\n",
      "0                         Winkel                50.933074   \n",
      "1                         Winkel                51.078476   \n",
      "2                         Winkel                50.976037   \n",
      "3                         Winkel                50.741521   \n",
      "4                         Winkel                50.559928   \n",
      "5                         Winkel                50.491706   \n",
      "6                         Winkel                50.827538   \n",
      "7                         Winkel                50.843997   \n",
      "8                         Winkel                50.401257   \n",
      "9                         Winkel                50.658812   \n",
      "\n",
      "  geoCoordinates.longitude    address.streetName  address.houseNumber  \\\n",
      "0                 4.053897    BRUSSELSE STEENWEG                   41   \n",
      "1                 3.450013              LOSTRAAT                   66   \n",
      "2                 4.811097      LEUVENSESTEENWEG                  241   \n",
      "3                 4.336719     BRUSSELSESTEENWEG                   19   \n",
      "4                 5.306195   CHAUSSEE DE TONGRES                  247   \n",
      "5                 5.093003   RUE DE LA PAPETERIE                    4   \n",
      "6                 4.302574      BERGENSESTEENWEG                  824   \n",
      "7                 4.309948  MAURICE HERBETTELAAN                   57   \n",
      "8                 4.279775     RUE DE LA STATION                    4   \n",
      "9                 5.532497      RUE DES FRANCAIS                   88   \n",
      "\n",
      "   address.postalcode address.cityName address.countryName address.countryCode  \n",
      "0                9300            AALST              België                  BE  \n",
      "1                9880           AALTER              België                  BE  \n",
      "2                3200         AARSCHOT              België                  BE  \n",
      "3                1652        ALSEMBERG              België                  BE  \n",
      "4                4540             AMAY              België                  BE  \n",
      "5                5300          ANDENNE              België                  BE  \n",
      "6                1070       ANDERLECHT              België                  BE  \n",
      "7                1070       ANDERLECHT              België                  BE  \n",
      "8                6150        ANDERLUES              België                  BE  \n",
      "9                4430              ANS              België                  BE  \n",
      "\n",
      "[10 rows x 23 columns]\n"
     ]
    }
   ],
   "source": [
    "import requests\n",
    "import pandas as pd\n",
    "\n",
    "def get_clp_places(url):\n",
    "    \"\"\"\n",
    "    Retrieves data from a specified API endpoint and normalizes the JSON response into a flattened pandas DataFrame.\n",
    "\n",
    "    Parameters:\n",
    "    - url (str): The URL of the API endpoint to fetch data from.\n",
    "\n",
    "    Returns:\n",
    "    - pd.DataFrame: A flattened pandas DataFrame containing the normalized data from the API, or None if the request was not successful.\n",
    "    \"\"\"\n",
    "    # Making the API call\n",
    "    response = requests.get(url)\n",
    "    \n",
    "    # Checking if the request was successful (status code 200)\n",
    "    if response.status_code == 200:\n",
    "        # Converting the JSON response to a list of dictionaries\n",
    "        data = response.json()\n",
    "\n",
    "        # Normalizing the nested JSON data\n",
    "        df = pd.json_normalize(data)\n",
    "        \n",
    "        return df\n",
    "    else:\n",
    "        # Printing an error message if the request was not successful\n",
    "        print(f\"Error: {response.status_code}\")\n",
    "        return None\n",
    "\n",
    "# Calling the function to get the DataFrame\n",
    "df_clp = get_clp_places(\"https://ecgplacesmw.colruytgroup.com/ecgplacesmw/v3/nl/places/filter/clp-places\")\n",
    "\n",
    "# Displaying the first 10 rows of the DataFrame\n",
    "if df_clp is not None:\n",
    "    print(df_clp.head(10))"
   ]
  },
  {
   "cell_type": "markdown",
   "metadata": {},
   "source": [
    "### Quality checks\n",
    "\n",
    "We would like you to add several checks on this data based on these constraints:  \n",
    " * records > 200\n",
    " * latitude between 49 and 52\n",
    " * longitude between 2 and 7\n",
    " \n",
    "We dont want you to create a full blown test suite here, we're just gonna use 'asserts' from unittest"
   ]
  },
  {
   "cell_type": "code",
   "execution_count": 4,
   "metadata": {},
   "outputs": [],
   "source": [
    "tc = unittest.TestCase('__init__')"
   ]
  },
  {
   "cell_type": "code",
   "execution_count": null,
   "metadata": {},
   "outputs": [],
   "source": [
    "# testing if the number of records is greater than 200\n",
    "tc.assertGreater(len(df_clp), 200, \"Number of records is less than 200.\")"
   ]
  },
  {
   "cell_type": "code",
   "execution_count": 24,
   "metadata": {},
   "outputs": [],
   "source": [
    "#testing latitude between 49 & 52\n",
    "for latitude in df_clp['geoCoordinates.latitude']:\n",
    "    tc.assertGreaterEqual(latitude, 49, \"Latitude is less than 49.\")\n",
    "    tc.assertLessEqual(latitude, 52, \"Latitude is greater than 52.\")"
   ]
  },
  {
   "cell_type": "code",
   "execution_count": 26,
   "metadata": {},
   "outputs": [],
   "source": [
    "#testing longitude between 2 & 7\n",
    "for longitude in df_clp['geoCoordinates.longitude']:\n",
    "    tc.assertGreaterEqual(longitude, 2, \"Longitude is less than 2.\")\n",
    "    tc.assertLessEqual(longitude, 7, \"Longitude is greater than 7.\")"
   ]
  },
  {
   "cell_type": "code",
   "execution_count": 28,
   "metadata": {},
   "outputs": [],
   "source": [
    "#testing if place_id is integer\n",
    "tc.assertEqual(df_clp['placeId'].dtype, 'int64')\n",
    "\n",
    "# Testing if Latitude lies between 0 & 90, longitude between -180 & +180\n",
    "tc.assertTrue(\n",
    "    ((0 <= df_clp['geoCoordinates.latitude']) & (df_clp['geoCoordinates.latitude'] <= 90)).all() and\n",
    "    ((-180 <= df_clp['geoCoordinates.longitude']) & (df_clp['geoCoordinates.longitude'] <= 180)).all(),\n",
    "    \"Latitude or longitude values are outside the valid range.\"\n",
    ")\n",
    "\n",
    "# testing if branchd is numeric\n",
    "tc.assertTrue(pd.to_numeric(df_clp['branchId'], errors='coerce').notna().all())\n",
    "\n",
    "# Checking 'isActive' is a boolean\n",
    "tc.assertTrue(df_clp['isActive'].isin([True, False]).all())\n",
    "\n",
    "# Checking for valid country codes\n",
    "valid_country_codes = {'BE', 'FR', 'LU'}\n",
    "tc.assertTrue(df_clp['address.countryCode'].isin(valid_country_codes).all(), \"Entries have invalid country codes.\")\n",
    "\n",
    "#testing routeurl & moreinfoUrl\n",
    "url_pattern = re.compile(r'https?://\\S+')\n",
    "tc.assertTrue(df_clp['moreInfoUrl'].str.match(url_pattern).all())\n",
    "tc.assertTrue(df_clp['routeUrl'].str.match(url_pattern).all())\n",
    "\n",
    "# Checking the format of dates in 'placeSearchOpeningHours'\n",
    "date_pattern = re.compile(r'\\d{2}-\\d{2}-\\d{4}')\n",
    "tc.assertTrue(df_clp['placeSearchOpeningHours'].apply(lambda x: all('date' in entry and re.match(date_pattern, entry['date']) for entry in x)).all())\n"
   ]
  },
  {
   "cell_type": "markdown",
   "metadata": {},
   "source": [
    "### Feature creation\n",
    "\n",
    "Create a new column \"antwerpen\" which is 1 for all stores in Antwerpen (province) and 0 for all others "
   ]
  },
  {
   "cell_type": "code",
   "execution_count": 35,
   "metadata": {},
   "outputs": [
    {
     "name": "stdout",
     "output_type": "stream",
     "text": [
      "antwerpen\n",
      "0    229\n",
      "1     30\n",
      "Name: count, dtype: int64\n"
     ]
    }
   ],
   "source": [
    "#converting postal code to integer \n",
    "df_clp['address.postalcode'] = df_clp['address.postalcode'].astype(int)\n",
    "\n",
    "#Creating a new feature antwerpen based on the range of postal code\n",
    "#wikipedia mentions post codes for Antwerp province range between 2000 to 2660 (https://en.wikipedia.org/wiki/Antwerp)\n",
    "df_clp['antwerpen'] = df_clp['address.postalcode'].apply(lambda x: 1 if 2000 <= x < 2661 else 0)\n",
    "\n",
    "# Display the counts of values in the 'antwerpen' column\n",
    "print(df_clp['antwerpen'].value_counts())\n",
    "\n"
   ]
  },
  {
   "cell_type": "markdown",
   "metadata": {},
   "source": [
    "## Predict used car value\n",
    "\n",
    "A datascientist in our team made a basic model to predict car prices.  \n",
    "The model was saved to disk ('lgbr_cars.model') using joblib's dump fuctionality.  \n",
    "Documentation states the model is a LightGBM Regressor, trained using the sk-learn api.  \n",
    "\n",
    "**As engineer, your task it to expose this model as REST-api.** \n",
    "\n",
    "First, retrieve the model via the function below.  \n",
    "Change the path according to your setup.  "
   ]
  },
  {
   "cell_type": "code",
   "execution_count": 9,
   "metadata": {},
   "outputs": [],
   "source": [
    "# Function to load the pretrained model from a local path\n",
    "def retrieve_model(path):\n",
    "    if len(path.strip())==0:\n",
    "        raise ValueError(\"path should not be empty\")\n",
    "    return joblib.load(path)\n",
    "\n",
    "# Calling the retrieve_model function using the pretrained model in local directory\n",
    "lgbr_cars = retrieve_model(\"lgbr_cars.model\")\n",
    "\n",
    "tc.assertEqual(str(type(lgbr_cars)),\"<class 'lightgbm.sklearn.LGBMRegressor'>\", type(lgbr_cars))"
   ]
  },
  {
   "cell_type": "markdown",
   "metadata": {},
   "source": [
    "Now you have your trained model, lets do a functional test based on the parameters below.  \n",
    "You have to present the parameters in this order.  \n",
    "\n",
    "* vehicleType: coupe\n",
    "* gearbox: manuell\n",
    "* powerPS: 190\n",
    "* model: NaN\n",
    "* kilometer: 125000\n",
    "* monthOfRegistration: 5 \n",
    "* fuelType: diesel\n",
    "* brand: audi\n",
    "\n",
    "Based on these parameters, you should get a predicted value of 14026.35068804\n",
    "However, the model doesnt accept string inputs, see the integer encoding below:"
   ]
  },
  {
   "cell_type": "code",
   "execution_count": 11,
   "metadata": {},
   "outputs": [],
   "source": [
    "# Integer encoded input to test the model by predicting\n",
    "model_test_input = [[3,1,190,-1,125000,5,3,1]]"
   ]
  },
  {
   "cell_type": "code",
   "execution_count": 12,
   "metadata": {},
   "outputs": [],
   "source": [
    "#Function to predict the car price from the give input values and using the given model\n",
    "def make_prediction(trained_model, single_input):\n",
    "    if str(type(trained_model))!=\"<class 'lightgbm.sklearn.LGBMRegressor'>\" :\n",
    "        raise ValueError (\"Please use a valid LGBMRegressor model\")\n",
    "    if len(single_input)>1:\n",
    "        raise ValueError (\"Please use a single input value\")\n",
    "    return (trained_model.predict(single_input))[0]\n",
    "\n",
    "predicted_value = make_prediction(lgbr_cars, model_test_input)\n",
    "\n",
    "tc.assertAlmostEqual(predicted_value, 14026.35, places=2)"
   ]
  },
  {
   "cell_type": "markdown",
   "metadata": {},
   "source": [
    "Now you got this model up and running, we want you to **expose it as a rest api.**  \n",
    "We don't expect you to set up any authentication.  \n",
    "We're not looking for beautiful inputs, just make it work.  \n",
    "**Building this endpoint should NOT be done in a notebook, but in proper .py file(s)**\n",
    "\n",
    "Once its up and running, use it to predict the following input:\n",
    "* [-1,1,0,118,150000,0,1,38] ==> prediction should be 13920.70"
   ]
  },
  {
   "cell_type": "markdown",
   "metadata": {},
   "source": [
    "## Geospatial data exercise\n",
    "The goal of this exercise is to read in some data from a shape file and visualize it on a map\n",
    "- The map should be dynamic. I want to zoom in and out to see more interesting aspects of the map\n",
    "- We want you to visualize the statistical sectors within a distance of 2KM of your home location.\n",
    "\n",
    "Specific steps to take:\n",
    "- Read in the shape file\n",
    "- Transform to WGS coordinates\n",
    "- Create a distance function (Haversine)\n",
    "- Create variables for home_lat, home_lon and perimeter_distance\n",
    "- Calculate centroid for each nis district\n",
    "- Calculate the distance to home for each nis district centroid \n",
    "- Figure out which nis districts are near your home\n",
    "- Create dynamic zoomable map\n",
    "- Visualize the nis districts near you (centroid <2km away), on the map\n"
   ]
  },
  {
   "cell_type": "code",
   "execution_count": 14,
   "metadata": {},
   "outputs": [],
   "source": [
    "# part 1: Reading in the data\n",
    "\n",
    "#Reading the shape file\n",
    "# get this file from https://statbel.fgov.be/sites/default/files/files/opendata/Statistische%20sectoren/sh_statbel_statistical_sectors_20200101.shp.zip \n",
    "df = gpd.read_file('sh_statbel_statistical_sectors_20200101.shp')\n",
    "\n",
    "# Calculate centroid coordinates after changing the projection\n",
    "# Use the Mercator projection (EPSG=3395) for distance calculations\n",
    "df['centroid_lon'] = df.to_crs(epsg=3395).geometry.centroid.x\n",
    "df['centroid_lat'] = df.to_crs(epsg=3395).geometry.centroid.y"
   ]
  },
  {
   "cell_type": "code",
   "execution_count": 16,
   "metadata": {},
   "outputs": [],
   "source": [
    "# Define a home location and a perimeter distance. Here, I have taken Zwijnaarde\n",
    "home_lat = 51.0031080246\n",
    "home_lon = 3.71061933068\n",
    "perimeter_distance = 2 # km"
   ]
  },
  {
   "cell_type": "code",
   "execution_count": 17,
   "metadata": {},
   "outputs": [],
   "source": [
    "# Harversine distance function\n",
    "\"\"\" \n",
    "Formula of Haversine used here\n",
    "\n",
    "a = sin²(φB - φA/2) + cos φA * cos φB * sin²(λB - λA/2)\n",
    "c = 2 * atan2( √a, √(1−a) )\n",
    "d = R ⋅ c\n",
    "φ is latitude, λ is longitude, R is earth’s radius (mean radius = 6,371km)\n",
    "Coordinates in decimal degrees.\n",
    "\"\"\"\n",
    "\n",
    "def haversine(lat1, lon1, lat2, lon2):\n",
    "    \"\"\"\n",
    "    Calculate the Haversine distance between two sets of latitude and longitude coordinates.\n",
    "\n",
    "    Parameters:\n",
    "    - lat1, lon1: Latitude and longitude of the first point\n",
    "    - lat2, lon2: Latitude and longitude of the second point\n",
    "\n",
    "    Returns:\n",
    "    - distance: Haversine distance in kilometers\n",
    "    \"\"\"\n",
    "    # Radius of the Earth in kilometers\n",
    "    R = 6371.0\n",
    "    \n",
    "    # Convert latitude and longitude from degrees to radians\n",
    "    lat1_rad = math.radians(lat1)\n",
    "    lon1_rad = math.radians(lon1)\n",
    "    lat2_rad = math.radians(lat2)\n",
    "    lon2_rad = math.radians(lon2)\n",
    "    \n",
    "    # Calculate the differences in coordinates\n",
    "    dlat = lat2_rad - lat1_rad\n",
    "    dlon = lon2_rad - lon1_rad\n",
    "    \n",
    "    # Haversine formula\n",
    "    a = math.sin(dlat / 2)**2 + math.cos(lat1_rad) * math.cos(lat2_rad) * math.sin(dlon / 2)**2\n",
    "    c = 2 * math.atan2(math.sqrt(a), math.sqrt(1 - a))\n",
    "    \n",
    "    # Calculate the distance\n",
    "    distance = R * c\n",
    "    \n",
    "    return distance\n"
   ]
  },
  {
   "cell_type": "markdown",
   "metadata": {},
   "source": [
    "Next, implement some sanity checks for your distance function "
   ]
  },
  {
   "cell_type": "code",
   "execution_count": 18,
   "metadata": {},
   "outputs": [
    {
     "name": "stdout",
     "output_type": "stream",
     "text": [
      "Distance between Hyderabad & Brussels: 7407.78 km\n"
     ]
    }
   ],
   "source": [
    "# implement sanity checks here\n",
    "# Checking the distance between Hyderabad & Brussels.\n",
    "distance_check = haversine(50.8476, 4.3572, 17.4065, 78.4772)\n",
    "print(f\"Distance between Hyderabad & Brussels: {distance_check:.2f} km\")"
   ]
  },
  {
   "cell_type": "markdown",
   "metadata": {},
   "source": [
    "Now, create a dynamical map "
   ]
  },
  {
   "cell_type": "code",
   "execution_count": null,
   "metadata": {},
   "outputs": [],
   "source": [
    "# implementation of the map goes here"
   ]
  },
  {
   "cell_type": "code",
   "execution_count": 22,
   "metadata": {},
   "outputs": [],
   "source": [
    "# Identify districts near Zwijnaarde Hekers using the Haversine distance function\n",
    "df['distance_haversine'] = df.apply(lambda row: haversine(home_lat, home_lon, row['centroid_lat'], row['centroid_lon']), axis=1)\n",
    "near_home = df[df['distance_haversine'] <= perimeter_distance]\n"
   ]
  },
  {
   "cell_type": "code",
   "execution_count": 24,
   "metadata": {},
   "outputs": [
    {
     "data": {
      "text/html": [
       "<div style=\"width:100%;\"><div style=\"position:relative;width:100%;height:0;padding-bottom:60%;\"><span style=\"color:#565656\">Make this Notebook Trusted to load map: File -> Trust Notebook</span><iframe srcdoc=\"&lt;!DOCTYPE html&gt;\n",
       "&lt;html&gt;\n",
       "&lt;head&gt;\n",
       "    \n",
       "    &lt;meta http-equiv=&quot;content-type&quot; content=&quot;text/html; charset=UTF-8&quot; /&gt;\n",
       "    \n",
       "        &lt;script&gt;\n",
       "            L_NO_TOUCH = false;\n",
       "            L_DISABLE_3D = false;\n",
       "        &lt;/script&gt;\n",
       "    \n",
       "    &lt;style&gt;html, body {width: 100%;height: 100%;margin: 0;padding: 0;}&lt;/style&gt;\n",
       "    &lt;style&gt;#map {position:absolute;top:0;bottom:0;right:0;left:0;}&lt;/style&gt;\n",
       "    &lt;script src=&quot;https://cdn.jsdelivr.net/npm/leaflet@1.9.3/dist/leaflet.js&quot;&gt;&lt;/script&gt;\n",
       "    &lt;script src=&quot;https://code.jquery.com/jquery-3.7.1.min.js&quot;&gt;&lt;/script&gt;\n",
       "    &lt;script src=&quot;https://cdn.jsdelivr.net/npm/bootstrap@5.2.2/dist/js/bootstrap.bundle.min.js&quot;&gt;&lt;/script&gt;\n",
       "    &lt;script src=&quot;https://cdnjs.cloudflare.com/ajax/libs/Leaflet.awesome-markers/2.0.2/leaflet.awesome-markers.js&quot;&gt;&lt;/script&gt;\n",
       "    &lt;link rel=&quot;stylesheet&quot; href=&quot;https://cdn.jsdelivr.net/npm/leaflet@1.9.3/dist/leaflet.css&quot;/&gt;\n",
       "    &lt;link rel=&quot;stylesheet&quot; href=&quot;https://cdn.jsdelivr.net/npm/bootstrap@5.2.2/dist/css/bootstrap.min.css&quot;/&gt;\n",
       "    &lt;link rel=&quot;stylesheet&quot; href=&quot;https://netdna.bootstrapcdn.com/bootstrap/3.0.0/css/bootstrap.min.css&quot;/&gt;\n",
       "    &lt;link rel=&quot;stylesheet&quot; href=&quot;https://cdn.jsdelivr.net/npm/@fortawesome/fontawesome-free@6.2.0/css/all.min.css&quot;/&gt;\n",
       "    &lt;link rel=&quot;stylesheet&quot; href=&quot;https://cdnjs.cloudflare.com/ajax/libs/Leaflet.awesome-markers/2.0.2/leaflet.awesome-markers.css&quot;/&gt;\n",
       "    &lt;link rel=&quot;stylesheet&quot; href=&quot;https://cdn.jsdelivr.net/gh/python-visualization/folium/folium/templates/leaflet.awesome.rotate.min.css&quot;/&gt;\n",
       "    \n",
       "            &lt;meta name=&quot;viewport&quot; content=&quot;width=device-width,\n",
       "                initial-scale=1.0, maximum-scale=1.0, user-scalable=no&quot; /&gt;\n",
       "            &lt;style&gt;\n",
       "                #map_30ea47a08e61f77e216ca12ba531bbc9 {\n",
       "                    position: relative;\n",
       "                    width: 100.0%;\n",
       "                    height: 100.0%;\n",
       "                    left: 0.0%;\n",
       "                    top: 0.0%;\n",
       "                }\n",
       "                .leaflet-container { font-size: 1rem; }\n",
       "            &lt;/style&gt;\n",
       "        \n",
       "&lt;/head&gt;\n",
       "&lt;body&gt;\n",
       "    \n",
       "    \n",
       "            &lt;div class=&quot;folium-map&quot; id=&quot;map_30ea47a08e61f77e216ca12ba531bbc9&quot; &gt;&lt;/div&gt;\n",
       "        \n",
       "&lt;/body&gt;\n",
       "&lt;script&gt;\n",
       "    \n",
       "    \n",
       "            var map_30ea47a08e61f77e216ca12ba531bbc9 = L.map(\n",
       "                &quot;map_30ea47a08e61f77e216ca12ba531bbc9&quot;,\n",
       "                {\n",
       "                    center: [51.0031080246, 3.71061933068],\n",
       "                    crs: L.CRS.EPSG3857,\n",
       "                    zoom: 20,\n",
       "                    zoomControl: true,\n",
       "                    preferCanvas: false,\n",
       "                }\n",
       "            );\n",
       "\n",
       "            \n",
       "\n",
       "        \n",
       "    \n",
       "            var tile_layer_28eca0ccf00d0292dfe2f0d13da031f0 = L.tileLayer(\n",
       "                &quot;https://tile.openstreetmap.org/{z}/{x}/{y}.png&quot;,\n",
       "                {&quot;attribution&quot;: &quot;\\u0026copy; \\u003ca href=\\&quot;https://www.openstreetmap.org/copyright\\&quot;\\u003eOpenStreetMap\\u003c/a\\u003e contributors&quot;, &quot;detectRetina&quot;: false, &quot;maxNativeZoom&quot;: 19, &quot;maxZoom&quot;: 19, &quot;minZoom&quot;: 0, &quot;noWrap&quot;: false, &quot;opacity&quot;: 1, &quot;subdomains&quot;: &quot;abc&quot;, &quot;tms&quot;: false}\n",
       "            );\n",
       "        \n",
       "    \n",
       "            tile_layer_28eca0ccf00d0292dfe2f0d13da031f0.addTo(map_30ea47a08e61f77e216ca12ba531bbc9);\n",
       "        \n",
       "    \n",
       "\n",
       "        function geo_json_3a920d8041b1ca7001b2ab9703a90028_onEachFeature(feature, layer) {\n",
       "            layer.on({\n",
       "            });\n",
       "        };\n",
       "        var geo_json_3a920d8041b1ca7001b2ab9703a90028 = L.geoJson(null, {\n",
       "                onEachFeature: geo_json_3a920d8041b1ca7001b2ab9703a90028_onEachFeature,\n",
       "            \n",
       "        });\n",
       "\n",
       "        function geo_json_3a920d8041b1ca7001b2ab9703a90028_add (data) {\n",
       "            geo_json_3a920d8041b1ca7001b2ab9703a90028\n",
       "                .addData(data);\n",
       "        }\n",
       "            geo_json_3a920d8041b1ca7001b2ab9703a90028_add({&quot;bbox&quot;: [NaN, NaN, NaN, NaN], &quot;features&quot;: [], &quot;type&quot;: &quot;FeatureCollection&quot;});\n",
       "\n",
       "        \n",
       "    \n",
       "            geo_json_3a920d8041b1ca7001b2ab9703a90028.addTo(map_30ea47a08e61f77e216ca12ba531bbc9);\n",
       "        \n",
       "&lt;/script&gt;\n",
       "&lt;/html&gt;\" style=\"position:absolute;width:100%;height:100%;left:0;top:0;border:none !important;\" allowfullscreen webkitallowfullscreen mozallowfullscreen></iframe></div></div>"
      ],
      "text/plain": [
       "<folium.folium.Map at 0x27dbc630450>"
      ]
     },
     "metadata": {},
     "output_type": "display_data"
    }
   ],
   "source": [
    "#point as input: zwijnaarde\n",
    "# Create a folium map centered at the zwijnaarde Hekers location\n",
    "zwijnaarde = folium.Map(location = [home_lat,home_lon],zoom_start=20)\n",
    "\n",
    "# Put the nearby districts to our input on the map\n",
    "folium.GeoJson(near_home.geometry).add_to(zwijnaarde)\n",
    "\n",
    "#display the map\n",
    "display(zwijnaarde)"
   ]
  }
 ],
 "metadata": {
  "kernelspec": {
   "display_name": "Python 3 (ipykernel)",
   "language": "python",
   "name": "python3"
  },
  "language_info": {
   "codemirror_mode": {
    "name": "ipython",
    "version": 3
   },
   "file_extension": ".py",
   "mimetype": "text/x-python",
   "name": "python",
   "nbconvert_exporter": "python",
   "pygments_lexer": "ipython3",
   "version": "3.11.5"
  }
 },
 "nbformat": 4,
 "nbformat_minor": 4
}
